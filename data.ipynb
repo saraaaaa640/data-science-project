{
 "cells": [
  {
   "cell_type": "markdown",
   "id": "018bb4d2",
   "metadata": {},
   "source": [
    "scalping data from stocks "
   ]
  },
  {
   "cell_type": "code",
   "execution_count": null,
   "id": "d731e482",
   "metadata": {},
   "outputs": [],
   "source": []
  }
 ],
 "metadata": {
  "language_info": {
   "name": "python"
  }
 },
 "nbformat": 4,
 "nbformat_minor": 5
}
