{
 "cells": [
  {
   "cell_type": "markdown",
   "id": "018bb4d2",
   "metadata": {},
   "source": [
    "scalpingh"
   ]
  }
 ],
 "metadata": {
  "language_info": {
   "name": "python"
  }
 },
 "nbformat": 4,
 "nbformat_minor": 5
}
