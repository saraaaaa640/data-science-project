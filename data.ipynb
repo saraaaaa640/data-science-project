{
 "cells": [
  {
   "cell_type": "markdown",
   "id": "018bb4d2",
   "metadata": {},
   "source": [
    "## Extracting Stock Data"
   ]
  },
  {
   "cell_type": "markdown",
   "id": "f848120e",
   "metadata": {},
   "source": [
    "### for apple stocks"
   ]
  },
  {
   "cell_type": "code",
   "execution_count": null,
   "id": "cb55c18d",
   "metadata": {},
   "outputs": [],
   "source": []
  },
  {
   "cell_type": "markdown",
   "id": "73af870a",
   "metadata": {},
   "source": [
    "1. Using yfinance to Extract Stock Info\n",
    "2. Using yfinance to Extract Historical Share Price Data\n",
    "3. Using yfinance to Extract Historical Dividends Data"
   ]
  },
  {
   "cell_type": "code",
   "execution_count": 1,
   "id": "d731e482",
   "metadata": {},
   "outputs": [
    {
     "name": "stdout",
     "output_type": "stream",
     "text": [
      "Collecting yfinance\n",
      "  Downloading yfinance-0.2.65-py2.py3-none-any.whl.metadata (5.8 kB)\n",
      "Requirement already satisfied: pandas>=1.3.0 in c:\\users\\sarah\\appdata\\local\\programs\\python\\python312\\lib\\site-packages (from yfinance) (2.2.2)\n",
      "Requirement already satisfied: numpy>=1.16.5 in c:\\users\\sarah\\appdata\\local\\programs\\python\\python312\\lib\\site-packages (from yfinance) (1.26.4)\n",
      "Requirement already satisfied: requests>=2.31 in c:\\users\\sarah\\appdata\\local\\programs\\python\\python312\\lib\\site-packages (from yfinance) (2.31.0)\n",
      "Collecting multitasking>=0.0.7 (from yfinance)\n",
      "  Downloading multitasking-0.0.12.tar.gz (19 kB)\n",
      "  Installing build dependencies: started\n",
      "  Installing build dependencies: finished with status 'done'\n",
      "  Getting requirements to build wheel: started\n",
      "  Getting requirements to build wheel: finished with status 'done'\n",
      "  Preparing metadata (pyproject.toml): started\n",
      "  Preparing metadata (pyproject.toml): finished with status 'done'\n",
      "Requirement already satisfied: platformdirs>=2.0.0 in c:\\users\\sarah\\appdata\\roaming\\python\\python312\\site-packages (from yfinance) (4.2.2)\n",
      "Requirement already satisfied: pytz>=2022.5 in c:\\users\\sarah\\appdata\\local\\programs\\python\\python312\\lib\\site-packages (from yfinance) (2024.1)\n",
      "Collecting frozendict>=2.3.4 (from yfinance)\n",
      "  Downloading frozendict-2.4.6-py312-none-any.whl.metadata (23 kB)\n",
      "Collecting peewee>=3.16.2 (from yfinance)\n",
      "  Downloading peewee-3.18.2.tar.gz (949 kB)\n",
      "     ---------------------------------------- 0.0/949.2 kB ? eta -:--:--\n",
      "     ---------------------------------------- 10.2/949.2 kB ? eta -:--:--\n",
      "     - ----------------------------------- 41.0/949.2 kB 487.6 kB/s eta 0:00:02\n",
      "     -- ---------------------------------- 61.4/949.2 kB 465.5 kB/s eta 0:00:02\n",
      "     --- --------------------------------- 92.2/949.2 kB 521.8 kB/s eta 0:00:02\n",
      "     ---- ------------------------------- 112.6/949.2 kB 504.4 kB/s eta 0:00:02\n",
      "     ---- ------------------------------- 112.6/949.2 kB 504.4 kB/s eta 0:00:02\n",
      "     ----- ------------------------------ 133.1/949.2 kB 392.6 kB/s eta 0:00:03\n",
      "     ----- ------------------------------ 153.6/949.2 kB 437.1 kB/s eta 0:00:02\n",
      "     ----- ------------------------------ 153.6/949.2 kB 437.1 kB/s eta 0:00:02\n",
      "     ----- ------------------------------ 153.6/949.2 kB 437.1 kB/s eta 0:00:02\n",
      "     ----- ------------------------------ 153.6/949.2 kB 437.1 kB/s eta 0:00:02\n",
      "     ----- ------------------------------ 153.6/949.2 kB 437.1 kB/s eta 0:00:02\n",
      "     ------- ---------------------------- 194.6/949.2 kB 318.9 kB/s eta 0:00:03\n",
      "     ---------- ------------------------- 286.7/949.2 kB 442.4 kB/s eta 0:00:02\n",
      "     --------------- -------------------- 399.4/949.2 kB 579.0 kB/s eta 0:00:01\n",
      "     ---------------- ------------------- 440.3/949.2 kB 611.8 kB/s eta 0:00:01\n",
      "     ----------------- ------------------ 471.0/949.2 kB 601.6 kB/s eta 0:00:01\n",
      "     ------------------ ----------------- 481.3/949.2 kB 579.4 kB/s eta 0:00:01\n",
      "     ------------------- ---------------- 522.2/949.2 kB 595.3 kB/s eta 0:00:01\n",
      "     ------------------- ---------------- 522.2/949.2 kB 595.3 kB/s eta 0:00:01\n",
      "     ------------------- ---------------- 522.2/949.2 kB 595.3 kB/s eta 0:00:01\n",
      "     ------------------- ---------------- 522.2/949.2 kB 595.3 kB/s eta 0:00:01\n",
      "     ------------------- ---------------- 522.2/949.2 kB 595.3 kB/s eta 0:00:01\n",
      "     ---------------------- ------------- 583.7/949.2 kB 539.5 kB/s eta 0:00:01\n",
      "     ---------------------- ------------- 583.7/949.2 kB 539.5 kB/s eta 0:00:01\n",
      "     ----------------------- ------------ 614.4/949.2 kB 508.6 kB/s eta 0:00:01\n",
      "     --------------------------- -------- 727.0/949.2 kB 580.4 kB/s eta 0:00:01\n",
      "     ----------------------------- ------ 768.0/949.2 kB 591.1 kB/s eta 0:00:01\n",
      "     ----------------------------- ------ 768.0/949.2 kB 591.1 kB/s eta 0:00:01\n",
      "     ----------------------------- ------ 768.0/949.2 kB 591.1 kB/s eta 0:00:01\n",
      "     ------------------------------- ---- 829.4/949.2 kB 576.1 kB/s eta 0:00:01\n",
      "     -------------------------------- --- 849.9/949.2 kB 577.9 kB/s eta 0:00:01\n",
      "     -------------------------------- --- 849.9/949.2 kB 577.9 kB/s eta 0:00:01\n",
      "     --------------------------------- -- 880.6/949.2 kB 556.9 kB/s eta 0:00:01\n",
      "     --------------------------------- -- 890.9/949.2 kB 547.0 kB/s eta 0:00:01\n",
      "     ---------------------------------- - 911.4/949.2 kB 554.5 kB/s eta 0:00:01\n",
      "     ------------------------------------ 949.2/949.2 kB 556.3 kB/s eta 0:00:00\n",
      "  Installing build dependencies: started\n",
      "  Installing build dependencies: finished with status 'done'\n",
      "  Getting requirements to build wheel: started\n",
      "  Getting requirements to build wheel: finished with status 'done'\n",
      "  Preparing metadata (pyproject.toml): started\n",
      "  Preparing metadata (pyproject.toml): finished with status 'done'\n",
      "Requirement already satisfied: beautifulsoup4>=4.11.1 in c:\\users\\sarah\\appdata\\local\\programs\\python\\python312\\lib\\site-packages (from yfinance) (4.12.3)\n",
      "Collecting curl_cffi>=0.7 (from yfinance)\n",
      "  Downloading curl_cffi-0.13.0-cp39-abi3-win_amd64.whl.metadata (13 kB)\n",
      "Requirement already satisfied: protobuf>=3.19.0 in c:\\users\\sarah\\appdata\\local\\programs\\python\\python312\\lib\\site-packages (from yfinance) (4.25.3)\n",
      "Collecting websockets>=13.0 (from yfinance)\n",
      "  Downloading websockets-15.0.1-cp312-cp312-win_amd64.whl.metadata (7.0 kB)\n",
      "Requirement already satisfied: soupsieve>1.2 in c:\\users\\sarah\\appdata\\local\\programs\\python\\python312\\lib\\site-packages (from beautifulsoup4>=4.11.1->yfinance) (2.5)\n",
      "Requirement already satisfied: cffi>=1.12.0 in c:\\users\\sarah\\appdata\\local\\programs\\python\\python312\\lib\\site-packages (from curl_cffi>=0.7->yfinance) (1.16.0)\n",
      "Requirement already satisfied: certifi>=2024.2.2 in c:\\users\\sarah\\appdata\\local\\programs\\python\\python312\\lib\\site-packages (from curl_cffi>=0.7->yfinance) (2024.2.2)\n",
      "Requirement already satisfied: python-dateutil>=2.8.2 in c:\\users\\sarah\\appdata\\local\\programs\\python\\python312\\lib\\site-packages (from pandas>=1.3.0->yfinance) (2.9.0.post0)\n",
      "Requirement already satisfied: tzdata>=2022.7 in c:\\users\\sarah\\appdata\\local\\programs\\python\\python312\\lib\\site-packages (from pandas>=1.3.0->yfinance) (2024.1)\n",
      "Requirement already satisfied: charset-normalizer<4,>=2 in c:\\users\\sarah\\appdata\\local\\programs\\python\\python312\\lib\\site-packages (from requests>=2.31->yfinance) (3.3.2)\n",
      "Requirement already satisfied: idna<4,>=2.5 in c:\\users\\sarah\\appdata\\local\\programs\\python\\python312\\lib\\site-packages (from requests>=2.31->yfinance) (3.7)\n",
      "Requirement already satisfied: urllib3<3,>=1.21.1 in c:\\users\\sarah\\appdata\\local\\programs\\python\\python312\\lib\\site-packages (from requests>=2.31->yfinance) (2.2.1)\n",
      "Requirement already satisfied: pycparser in c:\\users\\sarah\\appdata\\local\\programs\\python\\python312\\lib\\site-packages (from cffi>=1.12.0->curl_cffi>=0.7->yfinance) (2.22)\n",
      "Requirement already satisfied: six>=1.5 in c:\\users\\sarah\\appdata\\local\\programs\\python\\python312\\lib\\site-packages (from python-dateutil>=2.8.2->pandas>=1.3.0->yfinance) (1.16.0)\n",
      "Downloading yfinance-0.2.65-py2.py3-none-any.whl (119 kB)\n",
      "   ---------------------------------------- 0.0/119.4 kB ? eta -:--:--\n",
      "   --- ------------------------------------ 10.2/119.4 kB ? eta -:--:--\n",
      "   ------------- ------------------------- 41.0/119.4 kB 487.6 kB/s eta 0:00:01\n",
      "   -------------------- ------------------ 61.4/119.4 kB 544.7 kB/s eta 0:00:01\n",
      "   ----------------------- --------------- 71.7/119.4 kB 491.5 kB/s eta 0:00:01\n",
      "   ----------------------------------- -- 112.6/119.4 kB 544.7 kB/s eta 0:00:01\n",
      "   -------------------------------------- 119.4/119.4 kB 537.9 kB/s eta 0:00:00\n",
      "Downloading curl_cffi-0.13.0-cp39-abi3-win_amd64.whl (1.6 MB)\n",
      "   ---------------------------------------- 0.0/1.6 MB ? eta -:--:--\n",
      "    --------------------------------------- 0.0/1.6 MB 1.4 MB/s eta 0:00:02\n",
      "   - -------------------------------------- 0.1/1.6 MB 825.8 kB/s eta 0:00:02\n",
      "   - -------------------------------------- 0.1/1.6 MB 660.6 kB/s eta 0:00:03\n",
      "   -- ------------------------------------- 0.1/1.6 MB 538.9 kB/s eta 0:00:03\n",
      "   --- ------------------------------------ 0.1/1.6 MB 554.9 kB/s eta 0:00:03\n",
      "   --- ------------------------------------ 0.1/1.6 MB 463.7 kB/s eta 0:00:04\n",
      "   --- ------------------------------------ 0.1/1.6 MB 463.7 kB/s eta 0:00:04\n",
      "   --- ------------------------------------ 0.1/1.6 MB 463.7 kB/s eta 0:00:04\n",
      "   --- ------------------------------------ 0.1/1.6 MB 463.7 kB/s eta 0:00:04\n",
      "   --- ------------------------------------ 0.1/1.6 MB 463.7 kB/s eta 0:00:04\n",
      "   ------ --------------------------------- 0.3/1.6 MB 497.1 kB/s eta 0:00:03\n",
      "   ------- -------------------------------- 0.3/1.6 MB 520.7 kB/s eta 0:00:03\n",
      "   ------- -------------------------------- 0.3/1.6 MB 483.5 kB/s eta 0:00:03\n",
      "   ------- -------------------------------- 0.3/1.6 MB 483.5 kB/s eta 0:00:03\n",
      "   ------- -------------------------------- 0.3/1.6 MB 483.5 kB/s eta 0:00:03\n",
      "   ------- -------------------------------- 0.3/1.6 MB 483.5 kB/s eta 0:00:03\n",
      "   ------- -------------------------------- 0.3/1.6 MB 483.5 kB/s eta 0:00:03\n",
      "   ------- -------------------------------- 0.3/1.6 MB 483.5 kB/s eta 0:00:03\n",
      "   --------- ------------------------------ 0.4/1.6 MB 421.3 kB/s eta 0:00:03\n",
      "   --------- ------------------------------ 0.4/1.6 MB 418.2 kB/s eta 0:00:03\n",
      "   ---------- ----------------------------- 0.4/1.6 MB 423.1 kB/s eta 0:00:03\n",
      "   ---------- ----------------------------- 0.4/1.6 MB 423.1 kB/s eta 0:00:03\n",
      "   ---------- ----------------------------- 0.4/1.6 MB 411.2 kB/s eta 0:00:03\n",
      "   ----------- ---------------------------- 0.5/1.6 MB 397.0 kB/s eta 0:00:03\n",
      "   ----------- ---------------------------- 0.5/1.6 MB 404.2 kB/s eta 0:00:03\n",
      "   ----------- ---------------------------- 0.5/1.6 MB 391.6 kB/s eta 0:00:03\n",
      "   ------------ --------------------------- 0.5/1.6 MB 393.2 kB/s eta 0:00:03\n",
      "   ------------ --------------------------- 0.5/1.6 MB 391.7 kB/s eta 0:00:03\n",
      "   ------------ --------------------------- 0.5/1.6 MB 391.7 kB/s eta 0:00:03\n",
      "   ------------ --------------------------- 0.5/1.6 MB 372.4 kB/s eta 0:00:03\n",
      "   ------------- -------------------------- 0.6/1.6 MB 384.8 kB/s eta 0:00:03\n",
      "   ------------- -------------------------- 0.6/1.6 MB 384.8 kB/s eta 0:00:03\n",
      "   -------------- ------------------------- 0.6/1.6 MB 378.5 kB/s eta 0:00:03\n",
      "   -------------- ------------------------- 0.6/1.6 MB 373.7 kB/s eta 0:00:03\n",
      "   -------------- ------------------------- 0.6/1.6 MB 369.1 kB/s eta 0:00:03\n",
      "   --------------- ------------------------ 0.6/1.6 MB 371.0 kB/s eta 0:00:03\n",
      "   --------------- ------------------------ 0.6/1.6 MB 376.3 kB/s eta 0:00:03\n",
      "   ---------------- ----------------------- 0.7/1.6 MB 368.6 kB/s eta 0:00:03\n",
      "   ---------------- ----------------------- 0.7/1.6 MB 370.6 kB/s eta 0:00:03\n",
      "   ---------------- ----------------------- 0.7/1.6 MB 369.7 kB/s eta 0:00:03\n",
      "   ----------------- ---------------------- 0.7/1.6 MB 371.4 kB/s eta 0:00:03\n",
      "   ------------------ --------------------- 0.7/1.6 MB 373.1 kB/s eta 0:00:03\n",
      "   ------------------ --------------------- 0.8/1.6 MB 373.8 kB/s eta 0:00:03\n",
      "   ------------------ --------------------- 0.8/1.6 MB 373.8 kB/s eta 0:00:03\n",
      "   ------------------- -------------------- 0.8/1.6 MB 367.5 kB/s eta 0:00:03\n",
      "   ------------------- -------------------- 0.8/1.6 MB 369.0 kB/s eta 0:00:03\n",
      "   -------------------- ------------------- 0.8/1.6 MB 373.2 kB/s eta 0:00:03\n",
      "   -------------------- ------------------- 0.8/1.6 MB 369.9 kB/s eta 0:00:03\n",
      "   --------------------- ------------------ 0.8/1.6 MB 368.1 kB/s eta 0:00:03\n",
      "   --------------------- ------------------ 0.9/1.6 MB 369.5 kB/s eta 0:00:03\n",
      "   ---------------------- ----------------- 0.9/1.6 MB 373.3 kB/s eta 0:00:02\n",
      "   ---------------------- ----------------- 0.9/1.6 MB 370.3 kB/s eta 0:00:02\n",
      "   ---------------------- ----------------- 0.9/1.6 MB 371.5 kB/s eta 0:00:02\n",
      "   ----------------------- ---------------- 0.9/1.6 MB 371.0 kB/s eta 0:00:02\n",
      "   ----------------------- ---------------- 1.0/1.6 MB 372.2 kB/s eta 0:00:02\n",
      "   ------------------------ --------------- 1.0/1.6 MB 373.4 kB/s eta 0:00:02\n",
      "   ------------------------ --------------- 1.0/1.6 MB 370.6 kB/s eta 0:00:02\n",
      "   ------------------------ --------------- 1.0/1.6 MB 374.0 kB/s eta 0:00:02\n",
      "   ------------------------- -------------- 1.0/1.6 MB 371.3 kB/s eta 0:00:02\n",
      "   -------------------------- ------------- 1.1/1.6 MB 375.6 kB/s eta 0:00:02\n",
      "   -------------------------- ------------- 1.1/1.6 MB 373.0 kB/s eta 0:00:02\n",
      "   -------------------------- ------------- 1.1/1.6 MB 376.1 kB/s eta 0:00:02\n",
      "   --------------------------- ------------ 1.1/1.6 MB 375.6 kB/s eta 0:00:02\n",
      "   --------------------------- ------------ 1.1/1.6 MB 376.1 kB/s eta 0:00:02\n",
      "   ---------------------------- ----------- 1.1/1.6 MB 377.0 kB/s eta 0:00:02\n",
      "   ---------------------------- ----------- 1.2/1.6 MB 379.9 kB/s eta 0:00:02\n",
      "   ----------------------------- ---------- 1.2/1.6 MB 377.4 kB/s eta 0:00:02\n",
      "   ----------------------------- ---------- 1.2/1.6 MB 378.3 kB/s eta 0:00:02\n",
      "   ------------------------------ --------- 1.2/1.6 MB 380.4 kB/s eta 0:00:02\n",
      "   ------------------------------ --------- 1.2/1.6 MB 383.1 kB/s eta 0:00:01\n",
      "   ------------------------------- -------- 1.3/1.6 MB 380.8 kB/s eta 0:00:01\n",
      "   -------------------------------- ------- 1.3/1.6 MB 386.0 kB/s eta 0:00:01\n",
      "   -------------------------------- ------- 1.3/1.6 MB 385.3 kB/s eta 0:00:01\n",
      "   -------------------------------- ------- 1.3/1.6 MB 386.1 kB/s eta 0:00:01\n",
      "   --------------------------------- ------ 1.4/1.6 MB 388.0 kB/s eta 0:00:01\n",
      "   ---------------------------------- ----- 1.4/1.6 MB 388.6 kB/s eta 0:00:01\n",
      "   ---------------------------------- ----- 1.4/1.6 MB 388.1 kB/s eta 0:00:01\n",
      "   ----------------------------------- ---- 1.4/1.6 MB 388.7 kB/s eta 0:00:01\n",
      "   ----------------------------------- ---- 1.4/1.6 MB 390.5 kB/s eta 0:00:01\n",
      "   ------------------------------------ --- 1.5/1.6 MB 392.7 kB/s eta 0:00:01\n",
      "   ------------------------------------ --- 1.5/1.6 MB 390.5 kB/s eta 0:00:01\n",
      "   ------------------------------------- -- 1.5/1.6 MB 392.2 kB/s eta 0:00:01\n",
      "   ------------------------------------- -- 1.5/1.6 MB 394.4 kB/s eta 0:00:01\n",
      "   -------------------------------------- - 1.5/1.6 MB 394.9 kB/s eta 0:00:01\n",
      "   ---------------------------------------  1.6/1.6 MB 396.3 kB/s eta 0:00:01\n",
      "   ---------------------------------------  1.6/1.6 MB 394.2 kB/s eta 0:00:01\n",
      "   ---------------------------------------- 1.6/1.6 MB 396.5 kB/s eta 0:00:00\n",
      "Downloading frozendict-2.4.6-py312-none-any.whl (16 kB)\n",
      "Downloading websockets-15.0.1-cp312-cp312-win_amd64.whl (176 kB)\n",
      "   ---------------------------------------- 0.0/176.8 kB ? eta -:--:--\n",
      "   ---------------------------------------- 0.0/176.8 kB ? eta -:--:--\n",
      "   --------- ----------------------------- 41.0/176.8 kB 960.0 kB/s eta 0:00:01\n",
      "   ------------- -------------------------- 61.4/176.8 kB 1.1 MB/s eta 0:00:01\n",
      "   ------------- -------------------------- 61.4/176.8 kB 1.1 MB/s eta 0:00:01\n",
      "   --------------- ----------------------- 71.7/176.8 kB 391.3 kB/s eta 0:00:01\n",
      "   -------------------- ------------------ 92.2/176.8 kB 374.1 kB/s eta 0:00:01\n",
      "   -------------------- ------------------ 92.2/176.8 kB 374.1 kB/s eta 0:00:01\n",
      "   -------------------------- ----------- 122.9/176.8 kB 379.3 kB/s eta 0:00:01\n",
      "   ------------------------------ ------- 143.4/176.8 kB 369.8 kB/s eta 0:00:01\n",
      "   --------------------------------- ---- 153.6/176.8 kB 366.6 kB/s eta 0:00:01\n",
      "   -------------------------------------  174.1/176.8 kB 360.9 kB/s eta 0:00:01\n",
      "   -------------------------------------- 176.8/176.8 kB 355.2 kB/s eta 0:00:00\n",
      "Building wheels for collected packages: multitasking, peewee\n",
      "  Building wheel for multitasking (pyproject.toml): started\n",
      "  Building wheel for multitasking (pyproject.toml): finished with status 'done'\n",
      "  Created wheel for multitasking: filename=multitasking-0.0.12-py3-none-any.whl size=15703 sha256=aab914d7b29d49ea8f31c09b36dd3927f5447c8cfea4db3d7fa853d25ffa5307\n",
      "  Stored in directory: c:\\users\\sarah\\appdata\\local\\pip\\cache\\wheels\\cc\\bd\\6f\\664d62c99327abeef7d86489e6631cbf45b56fbf7ef1d6ef00\n",
      "  Building wheel for peewee (pyproject.toml): started\n",
      "  Building wheel for peewee (pyproject.toml): finished with status 'done'\n",
      "  Created wheel for peewee: filename=peewee-3.18.2-py3-none-any.whl size=139153 sha256=917cb9253160c62eb3ccebb8ac21058f1dd1841be9f55e488d578229338a920c\n",
      "  Stored in directory: c:\\users\\sarah\\appdata\\local\\pip\\cache\\wheels\\d1\\df\\a9\\0202b051c65b11c992dd6db9f2babdd2c44ec7d35d511be5d3\n",
      "Successfully built multitasking peewee\n",
      "Installing collected packages: peewee, multitasking, websockets, frozendict, curl_cffi, yfinance\n",
      "Successfully installed curl_cffi-0.13.0 frozendict-2.4.6 multitasking-0.0.12 peewee-3.18.2 websockets-15.0.1 yfinance-0.2.65\n"
     ]
    },
    {
     "name": "stderr",
     "output_type": "stream",
     "text": [
      "\n",
      "[notice] A new release of pip is available: 24.0 -> 25.2\n",
      "[notice] To update, run: python.exe -m pip install --upgrade pip\n"
     ]
    },
    {
     "name": "stdout",
     "output_type": "stream",
     "text": [
      "Requirement already satisfied: matplotlib in c:\\users\\sarah\\appdata\\local\\programs\\python\\python312\\lib\\site-packages (3.9.0)\n",
      "Requirement already satisfied: contourpy>=1.0.1 in c:\\users\\sarah\\appdata\\local\\programs\\python\\python312\\lib\\site-packages (from matplotlib) (1.2.1)\n",
      "Requirement already satisfied: cycler>=0.10 in c:\\users\\sarah\\appdata\\local\\programs\\python\\python312\\lib\\site-packages (from matplotlib) (0.12.1)\n",
      "Requirement already satisfied: fonttools>=4.22.0 in c:\\users\\sarah\\appdata\\local\\programs\\python\\python312\\lib\\site-packages (from matplotlib) (4.51.0)\n",
      "Requirement already satisfied: kiwisolver>=1.3.1 in c:\\users\\sarah\\appdata\\local\\programs\\python\\python312\\lib\\site-packages (from matplotlib) (1.4.5)\n",
      "Requirement already satisfied: numpy>=1.23 in c:\\users\\sarah\\appdata\\local\\programs\\python\\python312\\lib\\site-packages (from matplotlib) (1.26.4)\n",
      "Requirement already satisfied: packaging>=20.0 in c:\\users\\sarah\\appdata\\roaming\\python\\python312\\site-packages (from matplotlib) (24.0)\n",
      "Requirement already satisfied: pillow>=8 in c:\\users\\sarah\\appdata\\local\\programs\\python\\python312\\lib\\site-packages (from matplotlib) (10.3.0)\n",
      "Requirement already satisfied: pyparsing>=2.3.1 in c:\\users\\sarah\\appdata\\local\\programs\\python\\python312\\lib\\site-packages (from matplotlib) (3.1.2)\n",
      "Requirement already satisfied: python-dateutil>=2.7 in c:\\users\\sarah\\appdata\\local\\programs\\python\\python312\\lib\\site-packages (from matplotlib) (2.9.0.post0)\n",
      "Requirement already satisfied: six>=1.5 in c:\\users\\sarah\\appdata\\local\\programs\\python\\python312\\lib\\site-packages (from python-dateutil>=2.7->matplotlib) (1.16.0)\n"
     ]
    },
    {
     "name": "stderr",
     "output_type": "stream",
     "text": [
      "\n",
      "[notice] A new release of pip is available: 24.0 -> 25.2\n",
      "[notice] To update, run: python.exe -m pip install --upgrade pip\n"
     ]
    }
   ],
   "source": [
    "!pip install yfinance\n",
    "!pip install matplotlib"
   ]
  },
  {
   "cell_type": "code",
   "execution_count": null,
   "id": "29b1c4fc",
   "metadata": {},
   "outputs": [],
   "source": [
    "import yfinance as yf   #YAHOO finance is where to get data like stocks \n",
    "import pandas as pd"
   ]
  },
  {
   "cell_type": "markdown",
   "id": "a17f8688",
   "metadata": {},
   "source": [
    "### Using the yfinance Library to Extract Stock Data\n",
    "Using the Ticker module we can create an object that will allow us to access functions to extract data. To do this we need to provide the ticker symbol for the stock, here the company is Apple and the ticker symbol is AAPL."
   ]
  },
  {
   "cell_type": "code",
   "execution_count": 3,
   "id": "98bed330",
   "metadata": {},
   "outputs": [],
   "source": [
    "apple = yf.Ticker(\"AAPL\")"
   ]
  },
  {
   "cell_type": "code",
   "execution_count": 8,
   "id": "0a15ad2e",
   "metadata": {},
   "outputs": [],
   "source": [
    "import requests\n",
    "url = \"https://cf-courses-data.s3.us.cloud-object-storage.appdomain.cloud/IBMDeveloperSkillsNetwork-PY0220EN-SkillsNetwork/data/apple.json\"\n",
    "r = requests.get(url)\n",
    "with open(\"apple.json\", \"wb\") as f:\n",
    "    f.write(r.content)\n"
   ]
  },
  {
   "cell_type": "markdown",
   "id": "0cc3ffe3",
   "metadata": {},
   "source": [
    "Stock Info¶"
   ]
  },
  {
   "cell_type": "code",
   "execution_count": 9,
   "id": "e37590a7",
   "metadata": {},
   "outputs": [
    {
     "data": {
      "text/plain": [
       "{'zip': '95014',\n",
       " 'sector': 'Technology',\n",
       " 'fullTimeEmployees': 100000,\n",
       " 'longBusinessSummary': 'Apple Inc. designs, manufactures, and markets smartphones, personal computers, tablets, wearables, and accessories worldwide. It also sells various related services. In addition, the company offers iPhone, a line of smartphones; Mac, a line of personal computers; iPad, a line of multi-purpose tablets; AirPods Max, an over-ear wireless headphone; and wearables, home, and accessories comprising AirPods, Apple TV, Apple Watch, Beats products, HomePod, and iPod touch. Further, it provides AppleCare support services; cloud services store services; and operates various platforms, including the App Store that allow customers to discover and download applications and digital content, such as books, music, video, games, and podcasts. Additionally, the company offers various services, such as Apple Arcade, a game subscription service; Apple Music, which offers users a curated listening experience with on-demand radio stations; Apple News+, a subscription news and magazine service; Apple TV+, which offers exclusive original content; Apple Card, a co-branded credit card; and Apple Pay, a cashless payment service, as well as licenses its intellectual property. The company serves consumers, and small and mid-sized businesses; and the education, enterprise, and government markets. It distributes third-party applications for its products through the App Store. The company also sells its products through its retail and online stores, and direct sales force; and third-party cellular network carriers, wholesalers, retailers, and resellers. Apple Inc. was incorporated in 1977 and is headquartered in Cupertino, California.',\n",
       " 'city': 'Cupertino',\n",
       " 'phone': '408 996 1010',\n",
       " 'state': 'CA',\n",
       " 'country': 'United States',\n",
       " 'companyOfficers': [],\n",
       " 'website': 'https://www.apple.com',\n",
       " 'maxAge': 1,\n",
       " 'address1': 'One Apple Park Way',\n",
       " 'industry': 'Consumer Electronics',\n",
       " 'ebitdaMargins': 0.33890998,\n",
       " 'profitMargins': 0.26579002,\n",
       " 'grossMargins': 0.43019,\n",
       " 'operatingCashflow': 112241000448,\n",
       " 'revenueGrowth': 0.112,\n",
       " 'operatingMargins': 0.309,\n",
       " 'ebitda': 128217997312,\n",
       " 'targetLowPrice': 160,\n",
       " 'recommendationKey': 'buy',\n",
       " 'grossProfits': 152836000000,\n",
       " 'freeCashflow': 80153247744,\n",
       " 'targetMedianPrice': 199.5,\n",
       " 'currentPrice': 177.77,\n",
       " 'earningsGrowth': 0.25,\n",
       " 'currentRatio': 1.038,\n",
       " 'returnOnAssets': 0.19875,\n",
       " 'numberOfAnalystOpinions': 44,\n",
       " 'targetMeanPrice': 193.53,\n",
       " 'debtToEquity': 170.714,\n",
       " 'returnOnEquity': 1.45567,\n",
       " 'targetHighPrice': 215,\n",
       " 'totalCash': 63913000960,\n",
       " 'totalDebt': 122797998080,\n",
       " 'totalRevenue': 378323009536,\n",
       " 'totalCashPerShare': 3.916,\n",
       " 'financialCurrency': 'USD',\n",
       " 'revenuePerShare': 22.838,\n",
       " 'quickRatio': 0.875,\n",
       " 'recommendationMean': 1.8,\n",
       " 'exchange': 'NMS',\n",
       " 'shortName': 'Apple Inc.',\n",
       " 'longName': 'Apple Inc.',\n",
       " 'exchangeTimezoneName': 'America/New_York',\n",
       " 'exchangeTimezoneShortName': 'EDT',\n",
       " 'isEsgPopulated': False,\n",
       " 'gmtOffSetMilliseconds': '-14400000',\n",
       " 'quoteType': 'EQUITY',\n",
       " 'symbol': 'AAPL',\n",
       " 'messageBoardId': 'finmb_24937',\n",
       " 'market': 'us_market',\n",
       " 'annualHoldingsTurnover': None,\n",
       " 'enterpriseToRevenue': 7.824,\n",
       " 'beta3Year': None,\n",
       " 'enterpriseToEbitda': 23.086,\n",
       " '52WeekChange': 0.4549594,\n",
       " 'morningStarRiskRating': None,\n",
       " 'forwardEps': 6.56,\n",
       " 'revenueQuarterlyGrowth': None,\n",
       " 'sharesOutstanding': 16319399936,\n",
       " 'fundInceptionDate': None,\n",
       " 'annualReportExpenseRatio': None,\n",
       " 'totalAssets': None,\n",
       " 'bookValue': 4.402,\n",
       " 'sharesShort': 111286790,\n",
       " 'sharesPercentSharesOut': 0.0068,\n",
       " 'fundFamily': None,\n",
       " 'lastFiscalYearEnd': 1632528000,\n",
       " 'heldPercentInstitutions': 0.59397,\n",
       " 'netIncomeToCommon': 100554997760,\n",
       " 'trailingEps': 6.015,\n",
       " 'lastDividendValue': 0.22,\n",
       " 'SandP52WeekChange': 0.15217662,\n",
       " 'priceToBook': 40.38392,\n",
       " 'heldPercentInsiders': 0.0007,\n",
       " 'nextFiscalYearEnd': 1695600000,\n",
       " 'yield': None,\n",
       " 'mostRecentQuarter': 1640390400,\n",
       " 'shortRatio': 1.21,\n",
       " 'sharesShortPreviousMonthDate': 1644883200,\n",
       " 'floatShares': 16302795170,\n",
       " 'beta': 1.185531,\n",
       " 'enterpriseValue': 2959991898112,\n",
       " 'priceHint': 2,\n",
       " 'threeYearAverageReturn': None,\n",
       " 'lastSplitDate': 1598832000,\n",
       " 'lastSplitFactor': '4:1',\n",
       " 'legalType': None,\n",
       " 'lastDividendDate': 1643932800,\n",
       " 'morningStarOverallRating': None,\n",
       " 'earningsQuarterlyGrowth': 0.204,\n",
       " 'priceToSalesTrailing12Months': 7.668314,\n",
       " 'dateShortInterest': 1647302400,\n",
       " 'pegRatio': 1.94,\n",
       " 'ytdReturn': None,\n",
       " 'forwardPE': 27.099087,\n",
       " 'lastCapGain': None,\n",
       " 'shortPercentOfFloat': 0.0068,\n",
       " 'sharesShortPriorMonth': 108944701,\n",
       " 'impliedSharesOutstanding': 0,\n",
       " 'category': None,\n",
       " 'fiveYearAverageReturn': None,\n",
       " 'previousClose': 178.96,\n",
       " 'regularMarketOpen': 178.55,\n",
       " 'twoHundredDayAverage': 156.03505,\n",
       " 'trailingAnnualDividendYield': 0.004833482,\n",
       " 'payoutRatio': 0.1434,\n",
       " 'volume24Hr': None,\n",
       " 'regularMarketDayHigh': 179.61,\n",
       " 'navPrice': None,\n",
       " 'averageDailyVolume10Day': 93823630,\n",
       " 'regularMarketPreviousClose': 178.96,\n",
       " 'fiftyDayAverage': 166.498,\n",
       " 'trailingAnnualDividendRate': 0.865,\n",
       " 'open': 178.55,\n",
       " 'toCurrency': None,\n",
       " 'averageVolume10days': 93823630,\n",
       " 'expireDate': None,\n",
       " 'algorithm': None,\n",
       " 'dividendRate': 0.88,\n",
       " 'exDividendDate': 1643932800,\n",
       " 'circulatingSupply': None,\n",
       " 'startDate': None,\n",
       " 'regularMarketDayLow': 176.7,\n",
       " 'currency': 'USD',\n",
       " 'trailingPE': 29.55445,\n",
       " 'regularMarketVolume': 92633154,\n",
       " 'lastMarket': None,\n",
       " 'maxSupply': None,\n",
       " 'openInterest': None,\n",
       " 'marketCap': 2901099675648,\n",
       " 'volumeAllCurrencies': None,\n",
       " 'strikePrice': None,\n",
       " 'averageVolume': 95342043,\n",
       " 'dayLow': 176.7,\n",
       " 'ask': 178.53,\n",
       " 'askSize': 800,\n",
       " 'volume': 92633154,\n",
       " 'fiftyTwoWeekHigh': 182.94,\n",
       " 'fromCurrency': None,\n",
       " 'fiveYearAvgDividendYield': 1.13,\n",
       " 'fiftyTwoWeekLow': 122.25,\n",
       " 'bid': 178.4,\n",
       " 'tradeable': False,\n",
       " 'dividendYield': 0.005,\n",
       " 'bidSize': 3200,\n",
       " 'dayHigh': 179.61,\n",
       " 'regularMarketPrice': 177.77,\n",
       " 'preMarketPrice': 178.38,\n",
       " 'logo_url': 'https://logo.clearbit.com/apple.com'}"
      ]
     },
     "execution_count": 9,
     "metadata": {},
     "output_type": "execute_result"
    }
   ],
   "source": [
    "import json\n",
    "with open('apple.json') as json_file:\n",
    "    apple_info = json.load(json_file)\n",
    "    # Print the type of data variable    \n",
    "    #print(\"Type:\", type(apple_info))\n",
    "apple_info"
   ]
  },
  {
   "cell_type": "code",
   "execution_count": 10,
   "id": "a883b2fd",
   "metadata": {},
   "outputs": [
    {
     "data": {
      "text/plain": [
       "'United States'"
      ]
     },
     "execution_count": 10,
     "metadata": {},
     "output_type": "execute_result"
    }
   ],
   "source": [
    "apple_info['country']"
   ]
  },
  {
   "cell_type": "code",
   "execution_count": 28,
   "id": "0e7d61f7",
   "metadata": {},
   "outputs": [
    {
     "data": {
      "text/plain": [
       "'Technology'"
      ]
     },
     "execution_count": 28,
     "metadata": {},
     "output_type": "execute_result"
    }
   ],
   "source": [
    "apple_info['sector']"
   ]
  },
  {
   "cell_type": "markdown",
   "id": "8f1add46",
   "metadata": {},
   "source": [
    "### Extracting Share Price"
   ]
  },
  {
   "cell_type": "markdown",
   "id": "dfb00087",
   "metadata": {},
   "source": [
    "the data for the past year 'period=1y'"
   ]
  },
  {
   "cell_type": "code",
   "execution_count": 11,
   "id": "64d34d6e",
   "metadata": {},
   "outputs": [],
   "source": [
    "apple_share_price_data = apple.history(period=\"1y\")"
   ]
  },
  {
   "cell_type": "code",
   "execution_count": 12,
   "id": "37b4880b",
   "metadata": {},
   "outputs": [
    {
     "data": {
      "text/html": [
       "<div>\n",
       "<style scoped>\n",
       "    .dataframe tbody tr th:only-of-type {\n",
       "        vertical-align: middle;\n",
       "    }\n",
       "\n",
       "    .dataframe tbody tr th {\n",
       "        vertical-align: top;\n",
       "    }\n",
       "\n",
       "    .dataframe thead th {\n",
       "        text-align: right;\n",
       "    }\n",
       "</style>\n",
       "<table border=\"1\" class=\"dataframe\">\n",
       "  <thead>\n",
       "    <tr style=\"text-align: right;\">\n",
       "      <th></th>\n",
       "      <th>Open</th>\n",
       "      <th>High</th>\n",
       "      <th>Low</th>\n",
       "      <th>Close</th>\n",
       "      <th>Volume</th>\n",
       "      <th>Dividends</th>\n",
       "      <th>Stock Splits</th>\n",
       "    </tr>\n",
       "    <tr>\n",
       "      <th>Date</th>\n",
       "      <th></th>\n",
       "      <th></th>\n",
       "      <th></th>\n",
       "      <th></th>\n",
       "      <th></th>\n",
       "      <th></th>\n",
       "      <th></th>\n",
       "    </tr>\n",
       "  </thead>\n",
       "  <tbody>\n",
       "    <tr>\n",
       "      <th>2024-08-13 00:00:00-04:00</th>\n",
       "      <td>217.995439</td>\n",
       "      <td>220.862103</td>\n",
       "      <td>217.995439</td>\n",
       "      <td>220.244980</td>\n",
       "      <td>44155300</td>\n",
       "      <td>0.0</td>\n",
       "      <td>0.0</td>\n",
       "    </tr>\n",
       "    <tr>\n",
       "      <th>2024-08-14 00:00:00-04:00</th>\n",
       "      <td>219.548220</td>\n",
       "      <td>221.996815</td>\n",
       "      <td>218.682240</td>\n",
       "      <td>220.692886</td>\n",
       "      <td>41960600</td>\n",
       "      <td>0.0</td>\n",
       "      <td>0.0</td>\n",
       "    </tr>\n",
       "    <tr>\n",
       "      <th>2024-08-15 00:00:00-04:00</th>\n",
       "      <td>223.559546</td>\n",
       "      <td>224.306072</td>\n",
       "      <td>221.728059</td>\n",
       "      <td>223.678986</td>\n",
       "      <td>46414000</td>\n",
       "      <td>0.0</td>\n",
       "      <td>0.0</td>\n",
       "    </tr>\n",
       "    <tr>\n",
       "      <th>2024-08-16 00:00:00-04:00</th>\n",
       "      <td>222.882700</td>\n",
       "      <td>225.779224</td>\n",
       "      <td>222.613947</td>\n",
       "      <td>225.002838</td>\n",
       "      <td>44340200</td>\n",
       "      <td>0.0</td>\n",
       "      <td>0.0</td>\n",
       "    </tr>\n",
       "    <tr>\n",
       "      <th>2024-08-19 00:00:00-04:00</th>\n",
       "      <td>224.674371</td>\n",
       "      <td>224.943125</td>\n",
       "      <td>222.006778</td>\n",
       "      <td>224.843582</td>\n",
       "      <td>40687800</td>\n",
       "      <td>0.0</td>\n",
       "      <td>0.0</td>\n",
       "    </tr>\n",
       "  </tbody>\n",
       "</table>\n",
       "</div>"
      ],
      "text/plain": [
       "                                 Open        High         Low       Close  \\\n",
       "Date                                                                        \n",
       "2024-08-13 00:00:00-04:00  217.995439  220.862103  217.995439  220.244980   \n",
       "2024-08-14 00:00:00-04:00  219.548220  221.996815  218.682240  220.692886   \n",
       "2024-08-15 00:00:00-04:00  223.559546  224.306072  221.728059  223.678986   \n",
       "2024-08-16 00:00:00-04:00  222.882700  225.779224  222.613947  225.002838   \n",
       "2024-08-19 00:00:00-04:00  224.674371  224.943125  222.006778  224.843582   \n",
       "\n",
       "                             Volume  Dividends  Stock Splits  \n",
       "Date                                                          \n",
       "2024-08-13 00:00:00-04:00  44155300        0.0           0.0  \n",
       "2024-08-14 00:00:00-04:00  41960600        0.0           0.0  \n",
       "2024-08-15 00:00:00-04:00  46414000        0.0           0.0  \n",
       "2024-08-16 00:00:00-04:00  44340200        0.0           0.0  \n",
       "2024-08-19 00:00:00-04:00  40687800        0.0           0.0  "
      ]
     },
     "execution_count": 12,
     "metadata": {},
     "output_type": "execute_result"
    }
   ],
   "source": [
    "apple_share_price_data.head()"
   ]
  },
  {
   "cell_type": "code",
   "execution_count": 13,
   "id": "01e390c1",
   "metadata": {},
   "outputs": [],
   "source": [
    "apple_share_price_data.reset_index(inplace=True)\n"
   ]
  },
  {
   "cell_type": "code",
   "execution_count": 14,
   "id": "6da76537",
   "metadata": {},
   "outputs": [
    {
     "data": {
      "text/html": [
       "<div>\n",
       "<style scoped>\n",
       "    .dataframe tbody tr th:only-of-type {\n",
       "        vertical-align: middle;\n",
       "    }\n",
       "\n",
       "    .dataframe tbody tr th {\n",
       "        vertical-align: top;\n",
       "    }\n",
       "\n",
       "    .dataframe thead th {\n",
       "        text-align: right;\n",
       "    }\n",
       "</style>\n",
       "<table border=\"1\" class=\"dataframe\">\n",
       "  <thead>\n",
       "    <tr style=\"text-align: right;\">\n",
       "      <th></th>\n",
       "      <th>Date</th>\n",
       "      <th>Open</th>\n",
       "      <th>High</th>\n",
       "      <th>Low</th>\n",
       "      <th>Close</th>\n",
       "      <th>Volume</th>\n",
       "      <th>Dividends</th>\n",
       "      <th>Stock Splits</th>\n",
       "    </tr>\n",
       "  </thead>\n",
       "  <tbody>\n",
       "    <tr>\n",
       "      <th>0</th>\n",
       "      <td>2024-08-13 00:00:00-04:00</td>\n",
       "      <td>217.995439</td>\n",
       "      <td>220.862103</td>\n",
       "      <td>217.995439</td>\n",
       "      <td>220.244980</td>\n",
       "      <td>44155300</td>\n",
       "      <td>0.0</td>\n",
       "      <td>0.0</td>\n",
       "    </tr>\n",
       "    <tr>\n",
       "      <th>1</th>\n",
       "      <td>2024-08-14 00:00:00-04:00</td>\n",
       "      <td>219.548220</td>\n",
       "      <td>221.996815</td>\n",
       "      <td>218.682240</td>\n",
       "      <td>220.692886</td>\n",
       "      <td>41960600</td>\n",
       "      <td>0.0</td>\n",
       "      <td>0.0</td>\n",
       "    </tr>\n",
       "    <tr>\n",
       "      <th>2</th>\n",
       "      <td>2024-08-15 00:00:00-04:00</td>\n",
       "      <td>223.559546</td>\n",
       "      <td>224.306072</td>\n",
       "      <td>221.728059</td>\n",
       "      <td>223.678986</td>\n",
       "      <td>46414000</td>\n",
       "      <td>0.0</td>\n",
       "      <td>0.0</td>\n",
       "    </tr>\n",
       "    <tr>\n",
       "      <th>3</th>\n",
       "      <td>2024-08-16 00:00:00-04:00</td>\n",
       "      <td>222.882700</td>\n",
       "      <td>225.779224</td>\n",
       "      <td>222.613947</td>\n",
       "      <td>225.002838</td>\n",
       "      <td>44340200</td>\n",
       "      <td>0.0</td>\n",
       "      <td>0.0</td>\n",
       "    </tr>\n",
       "    <tr>\n",
       "      <th>4</th>\n",
       "      <td>2024-08-19 00:00:00-04:00</td>\n",
       "      <td>224.674371</td>\n",
       "      <td>224.943125</td>\n",
       "      <td>222.006778</td>\n",
       "      <td>224.843582</td>\n",
       "      <td>40687800</td>\n",
       "      <td>0.0</td>\n",
       "      <td>0.0</td>\n",
       "    </tr>\n",
       "  </tbody>\n",
       "</table>\n",
       "</div>"
      ],
      "text/plain": [
       "                       Date        Open        High         Low       Close  \\\n",
       "0 2024-08-13 00:00:00-04:00  217.995439  220.862103  217.995439  220.244980   \n",
       "1 2024-08-14 00:00:00-04:00  219.548220  221.996815  218.682240  220.692886   \n",
       "2 2024-08-15 00:00:00-04:00  223.559546  224.306072  221.728059  223.678986   \n",
       "3 2024-08-16 00:00:00-04:00  222.882700  225.779224  222.613947  225.002838   \n",
       "4 2024-08-19 00:00:00-04:00  224.674371  224.943125  222.006778  224.843582   \n",
       "\n",
       "     Volume  Dividends  Stock Splits  \n",
       "0  44155300        0.0           0.0  \n",
       "1  41960600        0.0           0.0  \n",
       "2  46414000        0.0           0.0  \n",
       "3  44340200        0.0           0.0  \n",
       "4  40687800        0.0           0.0  "
      ]
     },
     "execution_count": 14,
     "metadata": {},
     "output_type": "execute_result"
    }
   ],
   "source": [
    "apple_share_price_data.head()"
   ]
  },
  {
   "cell_type": "code",
   "execution_count": 15,
   "id": "f0f4aac3",
   "metadata": {},
   "outputs": [
    {
     "data": {
      "text/plain": [
       "<Axes: xlabel='Date'>"
      ]
     },
     "execution_count": 15,
     "metadata": {},
     "output_type": "execute_result"
    },
    {
     "data": {
      "image/png": "[encoded data removed]",
      "text/plain": [
       "<Figure size 640x480 with 1 Axes>"
      ]
     },
     "metadata": {},
     "output_type": "display_data"
    }
   ],
   "source": [
    "apple_share_price_data.plot(x=\"Date\", y=\"Open\")"
   ]
  },
  {
   "cell_type": "code",
   "execution_count": 17,
   "id": "72a856ee",
   "metadata": {},
   "outputs": [
    {
     "data": {
      "text/plain": [
       "<Axes: xlabel='Date'>"
      ]
     },
     "execution_count": 17,
     "metadata": {},
     "output_type": "execute_result"
    },
    {
     "data": {
      "image/png": "[encoded data removed]",
      "text/plain": [
       "<Figure size 640x480 with 1 Axes>"
      ]
     },
     "metadata": {},
     "output_type": "display_data"
    }
   ],
   "source": [
    "apple_share_price_data.plot(x=\"Date\", y=\"Close\")"
   ]
  },
  {
   "cell_type": "markdown",
   "id": "eb44b2e1",
   "metadata": {},
   "source": [
    "### Extracting Dividends"
   ]
  },
  {
   "cell_type": "markdown",
   "id": "fb9ad7e2",
   "metadata": {},
   "source": [
    "Dividends are the distribution of a companys profits to shareholders. In this case they are defined as an amount of money returned per share an investor owns. Using the variable dividends we can get a dataframe of the data. The period of the data is given by the period defined in the 'history` function"
   ]
  },
  {
   "cell_type": "code",
   "execution_count": 22,
   "id": "c9881285",
   "metadata": {},
   "outputs": [
    {
     "data": {
      "text/plain": [
       "0      0.00\n",
       "1      0.00\n",
       "2      0.00\n",
       "3      0.00\n",
       "4      0.00\n",
       "       ... \n",
       "246    0.00\n",
       "247    0.00\n",
       "248    0.26\n",
       "249    0.00\n",
       "250    0.00\n",
       "Name: Dividends, Length: 251, dtype: float64"
      ]
     },
     "execution_count": 22,
     "metadata": {},
     "output_type": "execute_result"
    }
   ],
   "source": [
    "apple_share_price_data.Dividends"
   ]
  },
  {
   "cell_type": "code",
   "execution_count": 27,
   "id": "ab029770",
   "metadata": {},
   "outputs": [
    {
     "data": {
      "text/plain": [
       "<Axes: xlabel='Date'>"
      ]
     },
     "execution_count": 27,
     "metadata": {},
     "output_type": "execute_result"
    },
    {
     "data": {
      "image/png": "[encoded data removed]",
      "text/plain": [
       "<Figure size 640x480 with 1 Axes>"
      ]
     },
     "metadata": {},
     "output_type": "display_data"
    }
   ],
   "source": [
    "apple_share_price_data.plot(x=\"Date\", y=\"Dividends\")"
   ]
  },
  {
   "cell_type": "code",
   "execution_count": 18,
   "id": "2e0b83cf",
   "metadata": {},
   "outputs": [
    {
     "data": {
      "text/plain": [
       "Date\n",
       "1987-05-11 00:00:00-04:00    0.000536\n",
       "1987-08-10 00:00:00-04:00    0.000536\n",
       "1987-11-17 00:00:00-05:00    0.000714\n",
       "1988-02-12 00:00:00-05:00    0.000714\n",
       "1988-05-16 00:00:00-04:00    0.000714\n",
       "                               ...   \n",
       "2024-08-12 00:00:00-04:00    0.250000\n",
       "2024-11-08 00:00:00-05:00    0.250000\n",
       "2025-02-10 00:00:00-05:00    0.250000\n",
       "2025-05-12 00:00:00-04:00    0.260000\n",
       "2025-08-11 00:00:00-04:00    0.260000\n",
       "Name: Dividends, Length: 88, dtype: float64"
      ]
     },
     "execution_count": 18,
     "metadata": {},
     "output_type": "execute_result"
    }
   ],
   "source": [
    "apple.dividends"
   ]
  },
  {
   "cell_type": "code",
   "execution_count": 21,
   "id": "6254a5b2",
   "metadata": {},
   "outputs": [
    {
     "data": {
      "text/plain": [
       "<Axes: xlabel='Date'>"
      ]
     },
     "execution_count": 21,
     "metadata": {},
     "output_type": "execute_result"
    },
    {
     "data": {
      "image/png": "[encoded data removed]",
      "text/plain": [
       "<Figure size 640x480 with 1 Axes>"
      ]
     },
     "metadata": {},
     "output_type": "display_data"
    }
   ],
   "source": [
    "apple.dividends.plot()"
   ]
  },
  {
   "cell_type": "code",
   "execution_count": null,
   "id": "7436c386",
   "metadata": {},
   "outputs": [],
   "source": []
  }
 ],
 "metadata": {
  "kernelspec": {
   "display_name": "Python 3",
   "language": "python",
   "name": "python3"
  },
  "language_info": {
   "codemirror_mode": {
    "name": "ipython",
    "version": 3
   },
   "file_extension": ".py",
   "mimetype": "text/x-python",
   "name": "python",
   "nbconvert_exporter": "python",
   "pygments_lexer": "ipython3",
   "version": "3.12.3"
  }
 },
 "nbformat": 4,
 "nbformat_minor": 5
}
